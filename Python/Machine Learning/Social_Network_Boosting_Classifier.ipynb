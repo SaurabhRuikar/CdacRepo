{
 "cells": [
  {
   "cell_type": "code",
   "execution_count": 27,
   "metadata": {},
   "outputs": [],
   "source": [
    "import pandas as pd\n",
    "import numpy as np"
   ]
  },
  {
   "cell_type": "code",
   "execution_count": 28,
   "metadata": {},
   "outputs": [
    {
     "data": {
      "text/html": [
       "<div>\n",
       "<style scoped>\n",
       "    .dataframe tbody tr th:only-of-type {\n",
       "        vertical-align: middle;\n",
       "    }\n",
       "\n",
       "    .dataframe tbody tr th {\n",
       "        vertical-align: top;\n",
       "    }\n",
       "\n",
       "    .dataframe thead th {\n",
       "        text-align: right;\n",
       "    }\n",
       "</style>\n",
       "<table border=\"1\" class=\"dataframe\">\n",
       "  <thead>\n",
       "    <tr style=\"text-align: right;\">\n",
       "      <th></th>\n",
       "      <th>User ID</th>\n",
       "      <th>Gender</th>\n",
       "      <th>Age</th>\n",
       "      <th>EstimatedSalary</th>\n",
       "      <th>Purchased</th>\n",
       "    </tr>\n",
       "  </thead>\n",
       "  <tbody>\n",
       "    <tr>\n",
       "      <td>0</td>\n",
       "      <td>15624510</td>\n",
       "      <td>Male</td>\n",
       "      <td>19</td>\n",
       "      <td>19000</td>\n",
       "      <td>0</td>\n",
       "    </tr>\n",
       "    <tr>\n",
       "      <td>1</td>\n",
       "      <td>15810944</td>\n",
       "      <td>Male</td>\n",
       "      <td>35</td>\n",
       "      <td>20000</td>\n",
       "      <td>0</td>\n",
       "    </tr>\n",
       "    <tr>\n",
       "      <td>2</td>\n",
       "      <td>15668575</td>\n",
       "      <td>Female</td>\n",
       "      <td>26</td>\n",
       "      <td>43000</td>\n",
       "      <td>0</td>\n",
       "    </tr>\n",
       "    <tr>\n",
       "      <td>3</td>\n",
       "      <td>15603246</td>\n",
       "      <td>Female</td>\n",
       "      <td>27</td>\n",
       "      <td>57000</td>\n",
       "      <td>0</td>\n",
       "    </tr>\n",
       "    <tr>\n",
       "      <td>4</td>\n",
       "      <td>15804002</td>\n",
       "      <td>Male</td>\n",
       "      <td>19</td>\n",
       "      <td>76000</td>\n",
       "      <td>0</td>\n",
       "    </tr>\n",
       "  </tbody>\n",
       "</table>\n",
       "</div>"
      ],
      "text/plain": [
       "    User ID  Gender  Age  EstimatedSalary  Purchased\n",
       "0  15624510    Male   19            19000          0\n",
       "1  15810944    Male   35            20000          0\n",
       "2  15668575  Female   26            43000          0\n",
       "3  15603246  Female   27            57000          0\n",
       "4  15804002    Male   19            76000          0"
      ]
     },
     "execution_count": 28,
     "metadata": {},
     "output_type": "execute_result"
    }
   ],
   "source": [
    "df = pd.read_csv('/home/student/Desktop/Python/dataset/Social_Network_Ads.csv')\n",
    "df.head()"
   ]
  },
  {
   "cell_type": "code",
   "execution_count": 29,
   "metadata": {},
   "outputs": [],
   "source": [
    "X = df.iloc[:, 1:4].values\n",
    "y = df.iloc[:, -1].values"
   ]
  },
  {
   "cell_type": "code",
   "execution_count": 30,
   "metadata": {},
   "outputs": [],
   "source": [
    "from sklearn.preprocessing import LabelEncoder, OneHotEncoder\n",
    "labelencoder_X_1 = LabelEncoder()\n",
    "X[:, 0] = labelencoder_X_1.fit_transform(X[:, 0])"
   ]
  },
  {
   "cell_type": "code",
   "execution_count": 31,
   "metadata": {},
   "outputs": [],
   "source": [
    "from sklearn.preprocessing import StandardScaler\n",
    "from sklearn.metrics import accuracy_score\n",
    "\n",
    "sc = StandardScaler()\n",
    "X = sc.fit_transform(X)"
   ]
  },
  {
   "cell_type": "code",
   "execution_count": 32,
   "metadata": {},
   "outputs": [],
   "source": [
    "from sklearn.model_selection import train_test_split\n",
    "X_train, X_test, y_train, y_test = train_test_split(X, y, test_size = 0.30, random_state = 0)"
   ]
  },
  {
   "cell_type": "code",
   "execution_count": 33,
   "metadata": {},
   "outputs": [],
   "source": [
    "from sklearn.ensemble import RandomForestClassifier, AdaBoostClassifier, GradientBoostingClassifier"
   ]
  },
  {
   "cell_type": "code",
   "execution_count": 34,
   "metadata": {},
   "outputs": [
    {
     "name": "stdout",
     "output_type": "stream",
     "text": [
      "0.8833333333333333\n"
     ]
    }
   ],
   "source": [
    "classifier = AdaBoostClassifier(n_estimators = 100)\n",
    "classifier.fit(X_train, y_train)\n",
    "y_predict = classifier.predict(X_test)\n",
    "\n",
    "print(accuracy_score(y_test, y_predict))"
   ]
  },
  {
   "cell_type": "code",
   "execution_count": 36,
   "metadata": {},
   "outputs": [
    {
     "name": "stdout",
     "output_type": "stream",
     "text": [
      "0.925\n"
     ]
    }
   ],
   "source": [
    "classifier = GradientBoostingClassifier(n_estimators = 100)\n",
    "classifier.fit(X_train, y_train)\n",
    "y_predict = classifier.predict(X_test)\n",
    "\n",
    "print(accuracy_score(y_test, y_predict))"
   ]
  },
  {
   "cell_type": "code",
   "execution_count": 37,
   "metadata": {},
   "outputs": [
    {
     "name": "stdout",
     "output_type": "stream",
     "text": [
      "Collecting jupyterthemes\n",
      "\u001b[?25l  Downloading https://files.pythonhosted.org/packages/8a/08/9dee6dfd7f2aad6c30282d55c8f495b4dc1e4747b4e2bdbeb80572ddf312/jupyterthemes-0.20.0-py2.py3-none-any.whl (7.0MB)\n",
      "\u001b[K     |████████████████████████████████| 7.0MB 143kB/s eta 0:00:01\n",
      "\u001b[?25hRequirement already satisfied: matplotlib>=1.4.3 in ./anaconda3/lib/python3.7/site-packages (from jupyterthemes) (3.1.1)\n",
      "Requirement already satisfied: notebook>=5.6.0 in ./anaconda3/lib/python3.7/site-packages (from jupyterthemes) (6.0.1)\n",
      "Requirement already satisfied: ipython>=5.4.1 in ./anaconda3/lib/python3.7/site-packages (from jupyterthemes) (7.8.0)\n",
      "Requirement already satisfied: jupyter-core in ./anaconda3/lib/python3.7/site-packages (from jupyterthemes) (4.5.0)\n",
      "Collecting lesscpy>=0.11.2 (from jupyterthemes)\n",
      "\u001b[?25l  Downloading https://files.pythonhosted.org/packages/10/d0/fdd9874972e07ae8727a3d26b433891d8605b96999ea99bbf506e756a7b1/lesscpy-0.13.0-py2.py3-none-any.whl (48kB)\n",
      "\u001b[K     |████████████████████████████████| 51kB 428kB/s eta 0:00:011\n",
      "\u001b[?25hRequirement already satisfied: cycler>=0.10 in ./anaconda3/lib/python3.7/site-packages (from matplotlib>=1.4.3->jupyterthemes) (0.10.0)\n",
      "Requirement already satisfied: kiwisolver>=1.0.1 in ./anaconda3/lib/python3.7/site-packages (from matplotlib>=1.4.3->jupyterthemes) (1.1.0)\n",
      "Requirement already satisfied: pyparsing!=2.0.4,!=2.1.2,!=2.1.6,>=2.0.1 in ./anaconda3/lib/python3.7/site-packages (from matplotlib>=1.4.3->jupyterthemes) (2.4.2)\n",
      "Requirement already satisfied: python-dateutil>=2.1 in ./anaconda3/lib/python3.7/site-packages (from matplotlib>=1.4.3->jupyterthemes) (2.8.0)\n",
      "Requirement already satisfied: numpy>=1.11 in ./anaconda3/lib/python3.7/site-packages (from matplotlib>=1.4.3->jupyterthemes) (1.17.2)\n",
      "Requirement already satisfied: jinja2 in ./anaconda3/lib/python3.7/site-packages (from notebook>=5.6.0->jupyterthemes) (2.10.3)\n",
      "Requirement already satisfied: jupyter-client>=5.3.1 in ./anaconda3/lib/python3.7/site-packages (from notebook>=5.6.0->jupyterthemes) (5.3.3)\n",
      "Requirement already satisfied: prometheus-client in ./anaconda3/lib/python3.7/site-packages (from notebook>=5.6.0->jupyterthemes) (0.7.1)\n",
      "Requirement already satisfied: pyzmq>=17 in ./anaconda3/lib/python3.7/site-packages (from notebook>=5.6.0->jupyterthemes) (18.1.0)\n",
      "Requirement already satisfied: ipykernel in ./anaconda3/lib/python3.7/site-packages (from notebook>=5.6.0->jupyterthemes) (5.1.2)\n",
      "Requirement already satisfied: nbformat in ./anaconda3/lib/python3.7/site-packages (from notebook>=5.6.0->jupyterthemes) (4.4.0)\n",
      "Requirement already satisfied: traitlets>=4.2.1 in ./anaconda3/lib/python3.7/site-packages (from notebook>=5.6.0->jupyterthemes) (4.3.3)\n",
      "Requirement already satisfied: ipython-genutils in ./anaconda3/lib/python3.7/site-packages (from notebook>=5.6.0->jupyterthemes) (0.2.0)\n",
      "Requirement already satisfied: nbconvert in ./anaconda3/lib/python3.7/site-packages (from notebook>=5.6.0->jupyterthemes) (5.6.0)\n",
      "Requirement already satisfied: terminado>=0.8.1 in ./anaconda3/lib/python3.7/site-packages (from notebook>=5.6.0->jupyterthemes) (0.8.2)\n",
      "Requirement already satisfied: tornado>=5.0 in ./anaconda3/lib/python3.7/site-packages (from notebook>=5.6.0->jupyterthemes) (6.0.3)\n",
      "Requirement already satisfied: Send2Trash in ./anaconda3/lib/python3.7/site-packages (from notebook>=5.6.0->jupyterthemes) (1.5.0)\n",
      "Requirement already satisfied: jedi>=0.10 in ./anaconda3/lib/python3.7/site-packages (from ipython>=5.4.1->jupyterthemes) (0.15.1)\n",
      "Requirement already satisfied: pickleshare in ./anaconda3/lib/python3.7/site-packages (from ipython>=5.4.1->jupyterthemes) (0.7.5)\n",
      "Requirement already satisfied: prompt-toolkit<2.1.0,>=2.0.0 in ./anaconda3/lib/python3.7/site-packages (from ipython>=5.4.1->jupyterthemes) (2.0.10)\n",
      "Requirement already satisfied: pexpect; sys_platform != \"win32\" in ./anaconda3/lib/python3.7/site-packages (from ipython>=5.4.1->jupyterthemes) (4.7.0)\n",
      "Requirement already satisfied: decorator in ./anaconda3/lib/python3.7/site-packages (from ipython>=5.4.1->jupyterthemes) (4.4.0)\n",
      "Requirement already satisfied: backcall in ./anaconda3/lib/python3.7/site-packages (from ipython>=5.4.1->jupyterthemes) (0.1.0)\n",
      "Requirement already satisfied: pygments in ./anaconda3/lib/python3.7/site-packages (from ipython>=5.4.1->jupyterthemes) (2.4.2)\n",
      "Requirement already satisfied: setuptools>=18.5 in ./anaconda3/lib/python3.7/site-packages (from ipython>=5.4.1->jupyterthemes) (41.4.0)\n",
      "Requirement already satisfied: ply in ./anaconda3/lib/python3.7/site-packages (from lesscpy>=0.11.2->jupyterthemes) (3.11)\n",
      "Requirement already satisfied: six in ./anaconda3/lib/python3.7/site-packages (from lesscpy>=0.11.2->jupyterthemes) (1.12.0)\n",
      "Requirement already satisfied: MarkupSafe>=0.23 in ./anaconda3/lib/python3.7/site-packages (from jinja2->notebook>=5.6.0->jupyterthemes) (1.1.1)\n",
      "Requirement already satisfied: jsonschema!=2.5.0,>=2.4 in ./anaconda3/lib/python3.7/site-packages (from nbformat->notebook>=5.6.0->jupyterthemes) (3.0.2)\n",
      "Requirement already satisfied: pandocfilters>=1.4.1 in ./anaconda3/lib/python3.7/site-packages (from nbconvert->notebook>=5.6.0->jupyterthemes) (1.4.2)\n",
      "Requirement already satisfied: mistune<2,>=0.8.1 in ./anaconda3/lib/python3.7/site-packages (from nbconvert->notebook>=5.6.0->jupyterthemes) (0.8.4)\n",
      "Requirement already satisfied: defusedxml in ./anaconda3/lib/python3.7/site-packages (from nbconvert->notebook>=5.6.0->jupyterthemes) (0.6.0)\n",
      "Requirement already satisfied: bleach in ./anaconda3/lib/python3.7/site-packages (from nbconvert->notebook>=5.6.0->jupyterthemes) (3.1.0)\n",
      "Requirement already satisfied: entrypoints>=0.2.2 in ./anaconda3/lib/python3.7/site-packages (from nbconvert->notebook>=5.6.0->jupyterthemes) (0.3)\n",
      "Requirement already satisfied: testpath in ./anaconda3/lib/python3.7/site-packages (from nbconvert->notebook>=5.6.0->jupyterthemes) (0.4.2)\n",
      "Requirement already satisfied: parso>=0.5.0 in ./anaconda3/lib/python3.7/site-packages (from jedi>=0.10->ipython>=5.4.1->jupyterthemes) (0.5.1)\n",
      "Requirement already satisfied: wcwidth in ./anaconda3/lib/python3.7/site-packages (from prompt-toolkit<2.1.0,>=2.0.0->ipython>=5.4.1->jupyterthemes) (0.1.7)\n",
      "Requirement already satisfied: ptyprocess>=0.5 in ./anaconda3/lib/python3.7/site-packages (from pexpect; sys_platform != \"win32\"->ipython>=5.4.1->jupyterthemes) (0.6.0)\n",
      "Requirement already satisfied: attrs>=17.4.0 in ./anaconda3/lib/python3.7/site-packages (from jsonschema!=2.5.0,>=2.4->nbformat->notebook>=5.6.0->jupyterthemes) (19.2.0)\n",
      "Requirement already satisfied: pyrsistent>=0.14.0 in ./anaconda3/lib/python3.7/site-packages (from jsonschema!=2.5.0,>=2.4->nbformat->notebook>=5.6.0->jupyterthemes) (0.15.4)\n",
      "Requirement already satisfied: webencodings in ./anaconda3/lib/python3.7/site-packages (from bleach->nbconvert->notebook>=5.6.0->jupyterthemes) (0.5.1)\n",
      "Installing collected packages: lesscpy, jupyterthemes\n",
      "Successfully installed jupyterthemes-0.20.0 lesscpy-0.13.0\n",
      "Note: you may need to restart the kernel to use updated packages.\n"
     ]
    }
   ],
   "source": [
    "pip install jupyterthemes\n"
   ]
  },
  {
   "cell_type": "code",
   "execution_count": 2,
   "metadata": {},
   "outputs": [
    {
     "ename": "SyntaxError",
     "evalue": "invalid syntax (<ipython-input-2-06a783fbafd7>, line 1)",
     "output_type": "error",
     "traceback": [
      "\u001b[0;36m  File \u001b[0;32m\"<ipython-input-2-06a783fbafd7>\"\u001b[0;36m, line \u001b[0;32m1\u001b[0m\n\u001b[0;31m    jt -t onedork\u001b[0m\n\u001b[0m                ^\u001b[0m\n\u001b[0;31mSyntaxError\u001b[0m\u001b[0;31m:\u001b[0m invalid syntax\n"
     ]
    }
   ],
   "source": []
  },
  {
   "cell_type": "code",
   "execution_count": null,
   "metadata": {},
   "outputs": [],
   "source": []
  }
 ],
 "metadata": {
  "kernelspec": {
   "display_name": "Python 3",
   "language": "python",
   "name": "python3"
  },
  "language_info": {
   "codemirror_mode": {
    "name": "ipython",
    "version": 3
   },
   "file_extension": ".py",
   "mimetype": "text/x-python",
   "name": "python",
   "nbconvert_exporter": "python",
   "pygments_lexer": "ipython3",
   "version": "3.7.4"
  }
 },
 "nbformat": 4,
 "nbformat_minor": 2
}
