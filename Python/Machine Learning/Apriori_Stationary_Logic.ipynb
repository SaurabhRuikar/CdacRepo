{
 "cells": [
  {
   "cell_type": "code",
   "execution_count": 1,
   "metadata": {},
   "outputs": [],
   "source": [
    "import pandas as pd\n",
    "import numpy as np\n",
    "import matplotlib.pyplot as plt"
   ]
  },
  {
   "cell_type": "code",
   "execution_count": 5,
   "metadata": {},
   "outputs": [
    {
     "data": {
      "text/html": [
       "<div>\n",
       "<style scoped>\n",
       "    .dataframe tbody tr th:only-of-type {\n",
       "        vertical-align: middle;\n",
       "    }\n",
       "\n",
       "    .dataframe tbody tr th {\n",
       "        vertical-align: top;\n",
       "    }\n",
       "\n",
       "    .dataframe thead th {\n",
       "        text-align: right;\n",
       "    }\n",
       "</style>\n",
       "<table border=\"1\" class=\"dataframe\">\n",
       "  <thead>\n",
       "    <tr style=\"text-align: right;\">\n",
       "      <th></th>\n",
       "      <th>ID</th>\n",
       "      <th>Product</th>\n",
       "    </tr>\n",
       "  </thead>\n",
       "  <tbody>\n",
       "    <tr>\n",
       "      <td>0</td>\n",
       "      <td>1</td>\n",
       "      <td>Pencil</td>\n",
       "    </tr>\n",
       "    <tr>\n",
       "      <td>1</td>\n",
       "      <td>1</td>\n",
       "      <td>Design_Book</td>\n",
       "    </tr>\n",
       "    <tr>\n",
       "      <td>2</td>\n",
       "      <td>1</td>\n",
       "      <td>Whitener</td>\n",
       "    </tr>\n",
       "    <tr>\n",
       "      <td>3</td>\n",
       "      <td>1</td>\n",
       "      <td>Gel_Pen</td>\n",
       "    </tr>\n",
       "    <tr>\n",
       "      <td>4</td>\n",
       "      <td>1</td>\n",
       "      <td>Scissors</td>\n",
       "    </tr>\n",
       "  </tbody>\n",
       "</table>\n",
       "</div>"
      ],
      "text/plain": [
       "   ID      Product\n",
       "0   1       Pencil\n",
       "1   1  Design_Book\n",
       "2   1     Whitener\n",
       "3   1      Gel_Pen\n",
       "4   1     Scissors"
      ]
     },
     "execution_count": 5,
     "metadata": {},
     "output_type": "execute_result"
    }
   ],
   "source": [
    "df = pd.read_csv('/home/student/Desktop/Python/dataset/off_stationary.csv', header = None)\n",
    "df.columns = ['ID', 'Product']\n",
    "g = df.groupby('ID')\n",
    "df.head()"
   ]
  },
  {
   "cell_type": "code",
   "execution_count": 3,
   "metadata": {},
   "outputs": [],
   "source": [
    "transaction = []          #list for the products buy by each customer\n",
    "for i in g:\n",
    "    transaction.append(i[1]['Product'].values.tolist())"
   ]
  },
  {
   "cell_type": "code",
   "execution_count": 4,
   "metadata": {},
   "outputs": [],
   "source": [
    "tr = {}                   #dictionary for tranzactions\n",
    "for i in transaction:\n",
    "    for j in i:\n",
    "        if tr.get(j, -1) != -1:\n",
    "            tr[j].extend([k for k in i if k != j])\n",
    "        else:\n",
    "            tr[j] = [k for k in i if k != j]"
   ]
  },
  {
   "cell_type": "code",
   "execution_count": 5,
   "metadata": {},
   "outputs": [],
   "source": [
    "reln = {}               #dictionary for the relations and the no of occurances\n",
    "for i, j in tr.items():\n",
    "    for k in j:\n",
    "        if reln.get((i, k), -1) != -1:\n",
    "            reln[(i, k)] += 1\n",
    "        else:\n",
    "            reln[(i, k)] = 1"
   ]
  },
  {
   "cell_type": "code",
   "execution_count": 15,
   "metadata": {},
   "outputs": [
    {
     "data": {
      "text/html": [
       "<div>\n",
       "<style scoped>\n",
       "    .dataframe tbody tr th:only-of-type {\n",
       "        vertical-align: middle;\n",
       "    }\n",
       "\n",
       "    .dataframe tbody tr th {\n",
       "        vertical-align: top;\n",
       "    }\n",
       "\n",
       "    .dataframe thead th {\n",
       "        text-align: right;\n",
       "    }\n",
       "</style>\n",
       "<table border=\"1\" class=\"dataframe\">\n",
       "  <thead>\n",
       "    <tr style=\"text-align: right;\">\n",
       "      <th></th>\n",
       "      <th>Relation</th>\n",
       "      <th>Lift</th>\n",
       "    </tr>\n",
       "  </thead>\n",
       "  <tbody>\n",
       "    <tr>\n",
       "      <td>0</td>\n",
       "      <td>(Ball_Pen, Pencil)</td>\n",
       "      <td>69.619048</td>\n",
       "    </tr>\n",
       "    <tr>\n",
       "      <td>1</td>\n",
       "      <td>(Ball_Pen, Pin_Box)</td>\n",
       "      <td>67.132653</td>\n",
       "    </tr>\n",
       "    <tr>\n",
       "      <td>2</td>\n",
       "      <td>(Ball_Pen, Box_File)</td>\n",
       "      <td>62.159864</td>\n",
       "    </tr>\n",
       "    <tr>\n",
       "      <td>3</td>\n",
       "      <td>(Ball_Pen, Punching_Machine)</td>\n",
       "      <td>57.187075</td>\n",
       "    </tr>\n",
       "    <tr>\n",
       "      <td>4</td>\n",
       "      <td>(Bag, Punching_Machine)</td>\n",
       "      <td>57.156379</td>\n",
       "    </tr>\n",
       "  </tbody>\n",
       "</table>\n",
       "</div>"
      ],
      "text/plain": [
       "                       Relation       Lift\n",
       "0            (Ball_Pen, Pencil)  69.619048\n",
       "1           (Ball_Pen, Pin_Box)  67.132653\n",
       "2          (Ball_Pen, Box_File)  62.159864\n",
       "3  (Ball_Pen, Punching_Machine)  57.187075\n",
       "4       (Bag, Punching_Machine)  57.156379"
      ]
     },
     "execution_count": 15,
     "metadata": {},
     "output_type": "execute_result"
    }
   ],
   "source": [
    "c = df.groupby('Product').count().reset_index()\n",
    "final = {}                   #final dictionary for the relation and the respectiove lift\n",
    "for i, j in reln.items():\n",
    "    freq = c[c['Product'] == i[0]]['ID'].values\n",
    "    support = freq/4386\n",
    "    conf = j/freq\n",
    "    lift = conf/support\n",
    "    final[i] = lift\n",
    "    \n",
    "final = pd.DataFrame.from_dict(final, orient='index').sort_values(0, ascending = False).reset_index()\n",
    "final.columns = ['Relation', 'Lift']\n",
    "final.head()"
   ]
  },
  {
   "cell_type": "code",
   "execution_count": 16,
   "metadata": {},
   "outputs": [],
   "source": [
    "recomendation = {}\n",
    "cnt = 0\n",
    "for i in final['Relation'].values:\n",
    "    if recomendation.get(i[0], -1) != -1:\n",
    "        recomendation[i[0]].append(i[1])\n",
    "    else:\n",
    "        recomendation[i[0]] = [i[1]] \n",
    "    cnt += 1\n",
    "    if cnt > 10:\n",
    "        break"
   ]
  },
  {
   "cell_type": "code",
   "execution_count": 17,
   "metadata": {},
   "outputs": [
    {
     "name": "stdout",
     "output_type": "stream",
     "text": [
      "Customer who buys Ball_Pen tends to buy Pencil, Pin_Box, Box_File, Punching_Machine, Gel_Pen, Notebook, File, Customer who buys Bag tends to buy Punching_Machine, Gel_Pen, Box_File, Pencil, "
     ]
    }
   ],
   "source": [
    "for i, j in recomendation.items():\n",
    "    print('Customer who buys', i, 'tends to buy', end = ' ')\n",
    "    for k in j:\n",
    "        print(k, end = ', ')"
   ]
  },
  {
   "cell_type": "code",
   "execution_count": null,
   "metadata": {},
   "outputs": [],
   "source": []
  }
 ],
 "metadata": {
  "kernelspec": {
   "display_name": "Python 3",
   "language": "python",
   "name": "python3"
  },
  "language_info": {
   "codemirror_mode": {
    "name": "ipython",
    "version": 3
   },
   "file_extension": ".py",
   "mimetype": "text/x-python",
   "name": "python",
   "nbconvert_exporter": "python",
   "pygments_lexer": "ipython3",
   "version": "3.7.4"
  }
 },
 "nbformat": 4,
 "nbformat_minor": 2
}
